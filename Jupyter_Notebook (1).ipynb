{
 "cells": [
  {
   "cell_type": "markdown",
   "metadata": {},
   "source": [
    "<center>\n",
    "    <img src=\"https://s3-api.us-geo.objectstorage.softlayer.net/cf-courses-data/CognitiveClass/Logos/organization_logo/organization_logo.png\" width=\"300\" alt=\"cognitiveclass.ai logo\"  />\n",
    "</center>\n"
   ]
  },
  {
   "cell_type": "markdown",
   "metadata": {},
   "source": [
    "#### Add your code below following the instructions given in the course\n"
   ]
  },
  {
   "cell_type": "markdown",
   "metadata": {},
   "source": [
    "# \"My Jupyter Notebook on IBM Watson Studio\""
   ]
  },
  {
   "cell_type": "markdown",
   "metadata": {},
   "source": [
    "__Claudia R.__\n",
    "----\n",
    "Researcher and future Environmental Data Scientist"
   ]
  },
  {
   "cell_type": "markdown",
   "metadata": {},
   "source": [
    "_I'm interested in learning Data Science because I think it can be a powerful tool to use for fighting the climate crisis.I think Data Science can help answer many questions we have about climate change, eg. CO2 mitigation._"
   ]
  },
  {
   "cell_type": "markdown",
   "metadata": {},
   "source": [
    "### The following code is written to solve a simple math equation"
   ]
  },
  {
   "cell_type": "code",
   "execution_count": 1,
   "metadata": {},
   "outputs": [
    {
     "data": {
      "text/plain": [
       "27"
      ]
     },
     "execution_count": 1,
     "metadata": {},
     "output_type": "execute_result"
    }
   ],
   "source": [
    "17+10"
   ]
  },
  {
   "cell_type": "markdown",
   "metadata": {},
   "source": [
    "One!\n",
    "***\n",
    "Two!\n",
    "***\n",
    "Three!\n",
    "***\n",
    "Sing!!!\n",
    "***\n",
    "![alt text](https://1000marcas.net/wp-content/uploads/2020/03/Logo-Queen.png \"Logo Title Text 1\")\n",
    "\n",
    "| __Song list__ | _Optional songs_ |\n",
    "| --------------| -----------------|\n",
    "| <a href=\"https://www.youtube.com/watch?v=fJ9rUzIMcZQ\">Bohemian Rhapsody</a> | Radio Ga Ga |\n",
    "| <a href=\"https://www.youtube.com/watch?v=f4Mc-NYPHaQ\">I Want to Break Free</a> | We Are the Champions |\n",
    "| <a href=\"https://www.youtube.com/watch?v=t99KH0TR-J4\">The Show Must Go On</a> | Love of my Life |\n",
    "\n",
    "\n",
    "----\n",
    "\n",
    "```python\n",
    "s = \"Hello there\"\n",
    "print s\n",
    "```\n",
    "\n",
    "> This is a blockquote where I say I like studying Data Science while listening to Queen songs. ~~The End~~"
   ]
  }
 ],
 "metadata": {
  "kernelspec": {
   "display_name": "Python 3",
   "language": "python",
   "name": "python3"
  },
  "language_info": {
   "codemirror_mode": {
    "name": "ipython",
    "version": 3
   },
   "file_extension": ".py",
   "mimetype": "text/x-python",
   "name": "python",
   "nbconvert_exporter": "python",
   "pygments_lexer": "ipython3",
   "version": "3.7.6"
  }
 },
 "nbformat": 4,
 "nbformat_minor": 4
}
